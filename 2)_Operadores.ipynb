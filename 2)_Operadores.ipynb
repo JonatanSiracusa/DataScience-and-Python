{
  "nbformat": 4,
  "nbformat_minor": 0,
  "metadata": {
    "colab": {
      "name": "2) Operadores.ipynb",
      "provenance": [],
      "collapsed_sections": [
        "vHq20Z7-hdtT",
        "BrmXOtkDhdj6",
        "7XUwWspAhdaa",
        "AT5JGnzdhdQ3",
        "lfQerHyEhdGm",
        "QkdK05hMhc85"
      ]
    },
    "kernelspec": {
      "name": "python3",
      "display_name": "Python 3"
    }
  },
  "cells": [
    {
      "cell_type": "markdown",
      "source": [
        "<div style=\"text-align: center\"><img src=\"https://www.python.org/static/img/python-logo.png\"></div>"
      ],
      "metadata": {
        "id": "nmUpVrO5gNt3"
      }
    },
    {
      "cell_type": "markdown",
      "metadata": {
        "id": "K1GZdTu_qma5",
        "colab_type": "toc"
      },
      "source": [
        ">[OPERADORES DE PYTHON](#scrollTo=AHONY2VzigaP)\n",
        "\n",
        ">>[2.1) Aritméticos:](#scrollTo=vHq20Z7-hdtT)\n",
        "\n",
        ">>[2.2) De Asignación:](#scrollTo=BrmXOtkDhdj6)\n",
        "\n",
        ">>[2.3) De Comparación o relación:](#scrollTo=7XUwWspAhdaa)\n",
        "\n",
        ">>[2.4) Lógicos (bool):](#scrollTo=AT5JGnzdhdQ3)\n",
        "\n",
        ">>[2.5) De identidad:](#scrollTo=lfQerHyEhdGm)\n",
        "\n",
        ">>[2.6) De pertenencia:](#scrollTo=QkdK05hMhc85)\n",
        "\n"
      ]
    },
    {
      "cell_type": "markdown",
      "metadata": {
        "id": "AHONY2VzigaP"
      },
      "source": [
        "# OPERADORES DE PYTHON"
      ]
    },
    {
      "cell_type": "markdown",
      "source": [
        "Python cuenta con distintos tipos de operadores. Estos son los más importantes."
      ],
      "metadata": {
        "id": "MQcPdx6ADudQ"
      }
    },
    {
      "cell_type": "markdown",
      "source": [
        "## 2.1) Aritméticos:\n",
        "\n",
        "Son los que usamos para hacer operaciones matemáticas."
      ],
      "metadata": {
        "id": "vHq20Z7-hdtT"
      }
    },
    {
      "cell_type": "code",
      "source": [
        "a = 1 + 2\n",
        "b = 4 - 3\n",
        "c = 2 * 3\n",
        "d = 12 / 3  # Retorna un valor de tipo float, por más que el resultado sea un int.\n",
        "e = 5 % 2   # Módulo: es el resto de la de división.\n",
        "f = 2 ** 5  # Potencia\n",
        "g = 15 // 2 # División entera: retorna un int y redondea el resultado hacia abajo.\n",
        "\n",
        "print('Suma:', a)\n",
        "print('Resta:', b)\n",
        "print('Mutiplicación:', c)\n",
        "print('División decimal:', d)\n",
        "print('Módulo:', e)\n",
        "print('Potecia:', f)\n",
        "print('División entera:', g)"
      ],
      "metadata": {
        "colab": {
          "base_uri": "https://localhost:8080/"
        },
        "id": "q8PyC8mciwya",
        "outputId": "46f26593-8fc0-40fb-92e1-655042ad2460"
      },
      "execution_count": 1,
      "outputs": [
        {
          "output_type": "stream",
          "name": "stdout",
          "text": [
            "Suma: 3\n",
            "Resta: 1\n",
            "Mutiplicación: 6\n",
            "División decimal: 4.0\n",
            "Módulo: 1\n",
            "Potecia: 32\n",
            "División entera: 7\n"
          ]
        }
      ]
    },
    {
      "cell_type": "markdown",
      "source": [
        "## 2.2) De Asignación:\n",
        "\n",
        "Hay formas cortas de asignar valores a las variables. \n",
        "Tener en cuenta que 1 signo = no hace lo mismo que 2 signos ==."
      ],
      "metadata": {
        "id": "BrmXOtkDhdj6"
      }
    },
    {
      "cell_type": "code",
      "source": [
        "a = 1\n",
        "b = 1\n",
        "c = 4\n",
        "d = 2\n",
        "e = 12\n",
        "f = 5\n",
        "g = 2\n",
        "h = 15\n",
        "\n",
        "a = 5     # Asignación de valor \n",
        "b += 2\n",
        "c -= 3\n",
        "d *= 3\n",
        "e /= 3    # Retorna un valor de tipo float, por más que el resultado sea un int.\n",
        "f %= 2    # Módulo: es el resto de la de división.\n",
        "g **= 5   # Potencia\n",
        "h //= 2   # División entera: retorna un int y redondea el resultado hacia abajo.\n",
        "\n",
        "print('Asignación:', a)\n",
        "print('Suma:', b)\n",
        "print('Resta:', c)\n",
        "print('Multiplicación:', d)\n",
        "print('División decimal:', e)\n",
        "print('Módulo:', f)\n",
        "print('Potencia:', g)\n",
        "print('División entera:', h)"
      ],
      "metadata": {
        "id": "zr5JKLDwmbxo",
        "colab": {
          "base_uri": "https://localhost:8080/"
        },
        "outputId": "9d015bbc-7e69-4745-fa35-0adee738917b"
      },
      "execution_count": 2,
      "outputs": [
        {
          "output_type": "stream",
          "name": "stdout",
          "text": [
            "Asignación: 5\n",
            "Suma: 3\n",
            "Resta: 1\n",
            "Multiplicación: 6\n",
            "División decimal: 4.0\n",
            "Módulo: 1\n",
            "Potencia: 32\n",
            "División entera: 7\n"
          ]
        }
      ]
    },
    {
      "cell_type": "markdown",
      "source": [
        "## 2.3) De Comparación o relación:\n",
        "\n",
        "Todas estas comparaciones retornan valores de tipo **BOOLEAN**: **True** o **False**."
      ],
      "metadata": {
        "id": "7XUwWspAhdaa"
      }
    },
    {
      "cell_type": "code",
      "source": [
        "print('Son equivalentes?', 5 == 3)  # Equivalentes: igual contenido.\n",
        "print('Son distintos?', 5 != 3)\n",
        "print('El primero es mayor que el segundo elemento?', 5 > 3)\n",
        "print('El primero es menor que el segundo elemento?', 5 < 3)\n",
        "print('El primero es mayor o igual que el segundo elemento?', 5 >= 3)\n",
        "print('El primero es menor o igual que el segundo elemento?', 5 <= 3)"
      ],
      "metadata": {
        "colab": {
          "base_uri": "https://localhost:8080/"
        },
        "id": "WRkgUAZ6GD6y",
        "outputId": "b1cf2b7a-897d-4ec5-b518-aab34e7cacd4"
      },
      "execution_count": 3,
      "outputs": [
        {
          "output_type": "stream",
          "name": "stdout",
          "text": [
            "Son equivalentes? False\n",
            "Son distintos? True\n",
            "El primero es mayor que el segundo elemento? True\n",
            "El primero es menor que el segundo elemento? False\n",
            "El primero es mayor o igual que el segundo elemento? True\n",
            "El primero es menor o igual que el segundo elemento? False\n"
          ]
        }
      ]
    },
    {
      "cell_type": "markdown",
      "source": [
        "## 2.4) Lógicos (bool):\n",
        "\n",
        "Son usados para combinar declaraciones condicionales.\n",
        "\n",
        "Todas estas comparaciones retornan valores de tipo **BOOLEAN**: **True** o **False**."
      ],
      "metadata": {
        "id": "AT5JGnzdhdQ3"
      }
    },
    {
      "cell_type": "markdown",
      "source": [
        "a) and / &: son **Verdaderos** si TODAS las variables son True."
      ],
      "metadata": {
        "id": "7STYGSpZLw_r"
      }
    },
    {
      "cell_type": "code",
      "source": [
        "x = True\n",
        "y = True\n",
        "\n",
        "if ((x == True) and (y == True)):\n",
        "  print('Verdadero')\n",
        "\n",
        "if ((x == True) & (y == True)):\n",
        "  print('Verdadero')"
      ],
      "metadata": {
        "colab": {
          "base_uri": "https://localhost:8080/"
        },
        "id": "JyD0A5m7Kan4",
        "outputId": "394c9f48-68f1-484d-e872-f2c055c65a52"
      },
      "execution_count": 4,
      "outputs": [
        {
          "output_type": "stream",
          "name": "stdout",
          "text": [
            "Verdadero\n",
            "Verdadero\n"
          ]
        }
      ]
    },
    {
      "cell_type": "markdown",
      "source": [
        "b) or / |: son **Verdaderos** si UNA de las variables es True."
      ],
      "metadata": {
        "id": "zh8y3GC2Moip"
      }
    },
    {
      "cell_type": "code",
      "source": [
        "x = True\n",
        "y = False\n",
        "\n",
        "if ((x == True) or (y == True)):\n",
        "  print('Verdadero')\n",
        "\n",
        "if ((x == True) | (y == True)):\n",
        "  print('Verdadero')"
      ],
      "metadata": {
        "colab": {
          "base_uri": "https://localhost:8080/"
        },
        "id": "TJdE3cj8Mpno",
        "outputId": "36363752-01f4-479c-8bc1-d3f2ef4bcf33"
      },
      "execution_count": 5,
      "outputs": [
        {
          "output_type": "stream",
          "name": "stdout",
          "text": [
            "Verdadero\n",
            "Verdadero\n"
          ]
        }
      ]
    },
    {
      "cell_type": "markdown",
      "source": [
        "c) not / ~: son **Verdaderos** si UNA de las variables es True."
      ],
      "metadata": {
        "id": "INdi2lIHMqEi"
      }
    },
    {
      "cell_type": "code",
      "source": [
        "x = False\n",
        "\n",
        "if not x:\n",
        "  print('Verdadero')\n",
        "\n",
        "if ~ x:\n",
        "  print('Verdadero')"
      ],
      "metadata": {
        "colab": {
          "base_uri": "https://localhost:8080/"
        },
        "id": "-MXd-S9sMqjF",
        "outputId": "4d8baebd-79e2-4364-b35a-2652caee4f37"
      },
      "execution_count": 6,
      "outputs": [
        {
          "output_type": "stream",
          "name": "stdout",
          "text": [
            "Verdadero\n",
            "Verdadero\n"
          ]
        }
      ]
    },
    {
      "cell_type": "markdown",
      "source": [
        "## 2.5) De identidad:\n",
        "\n",
        "Estos operadores son usados para COMPARAR OBJETOS, NO SI SON IGUALES o equivalentes. Buscan saber si son el mismo objeto, con la misma dirección de memoria.\n",
        "\n",
        "Todas estas comparaciones retornan valores de tipo **BOOLEAN**: **True** o **False**."
      ],
      "metadata": {
        "id": "lfQerHyEhdGm"
      }
    },
    {
      "cell_type": "code",
      "source": [
        "x = [\"apple\", \"banana\"]\n",
        "y = [\"apple\", \"banana\"]\n",
        "z = x\n",
        "\n",
        "print(x is z)   # returns True because z is the same object as x\n",
        "print(x is y)   # returns False because x is not the same object as y, even if they have the same content\n",
        "print(x == y)   # to demonstrate the difference betweeen \"is\" and \"==\": this comparison returns True because x is equal to y"
      ],
      "metadata": {
        "id": "hXl1zQKxOOhv",
        "colab": {
          "base_uri": "https://localhost:8080/"
        },
        "outputId": "c337af96-c7c3-4381-8651-301ad38a6360"
      },
      "execution_count": 7,
      "outputs": [
        {
          "output_type": "stream",
          "name": "stdout",
          "text": [
            "True\n",
            "False\n",
            "True\n"
          ]
        }
      ]
    },
    {
      "cell_type": "code",
      "source": [
        "x = [\"apple\", \"banana\"]\n",
        "y = [\"apple\", \"banana\"]\n",
        "z = x\n",
        "\n",
        "print(x is not z)   # returns False because z is the same object as x\n",
        "print(x is not y)   # returns True because x is not the same object as y, even if they have the same content\n",
        "print(x != y)       # to demonstrate the difference betweeen \"is not\" and \"!=\": this comparison returns False because x is equal to y"
      ],
      "metadata": {
        "colab": {
          "base_uri": "https://localhost:8080/"
        },
        "id": "X7MKl1hH0IgM",
        "outputId": "cb226842-9799-4154-d154-bcfc3a37c0ce"
      },
      "execution_count": 8,
      "outputs": [
        {
          "output_type": "stream",
          "name": "stdout",
          "text": [
            "False\n",
            "True\n",
            "False\n"
          ]
        }
      ]
    },
    {
      "cell_type": "markdown",
      "source": [
        "## 2.6) De pertenencia:\n",
        "\n",
        "Estos operadores son usados para verificar si una secuencia esta dentro de otra.\n",
        "\n",
        "Todas estas comparaciones retornan valores de tipo **BOOLEAN**: **True** o **False**."
      ],
      "metadata": {
        "id": "QkdK05hMhc85"
      }
    },
    {
      "cell_type": "code",
      "source": [
        "x = [\"apple\", \"banana\"]\n",
        "\n",
        "print(\"banana\" in x)    # returns True because a sequence with the value \"banana\" is in the list"
      ],
      "metadata": {
        "colab": {
          "base_uri": "https://localhost:8080/"
        },
        "id": "6J4xdr2v1UvR",
        "outputId": "079a902a-fa57-4b32-9ebb-e49f2c926aed"
      },
      "execution_count": 9,
      "outputs": [
        {
          "output_type": "stream",
          "name": "stdout",
          "text": [
            "True\n"
          ]
        }
      ]
    },
    {
      "cell_type": "code",
      "source": [
        "x = [\"apple\", \"banana\"]\n",
        "\n",
        "print(\"pineapple\" not in x)   # returns True because a sequence with the value \"pineapple\" is not in the list"
      ],
      "metadata": {
        "colab": {
          "base_uri": "https://localhost:8080/"
        },
        "id": "kJYBFVwI1Ubw",
        "outputId": "e6a3953f-edde-475b-899b-fbc2f161d08f"
      },
      "execution_count": 10,
      "outputs": [
        {
          "output_type": "stream",
          "name": "stdout",
          "text": [
            "True\n"
          ]
        }
      ]
    }
  ]
}