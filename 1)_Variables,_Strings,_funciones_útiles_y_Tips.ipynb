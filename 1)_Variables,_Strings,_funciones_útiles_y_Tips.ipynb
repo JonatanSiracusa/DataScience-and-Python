{
  "nbformat": 4,
  "nbformat_minor": 0,
  "metadata": {
    "colab": {
      "name": "1) Variables, Strings, funciones útiles y Tips.ipynb",
      "provenance": [],
      "collapsed_sections": [],
      "include_colab_link": true
    },
    "kernelspec": {
      "name": "python3",
      "display_name": "Python 3"
    }
  },
  "cells": [
    {
      "cell_type": "markdown",
      "metadata": {
        "id": "view-in-github",
        "colab_type": "text"
      },
      "source": [
        "<a href=\"https://colab.research.google.com/github/JonatanSiracusa/DataScience-and-Python/blob/main/1)_Variables%2C_Strings%2C_funciones_%C3%BAtiles_y_Tips.ipynb\" target=\"_parent\"><img src=\"https://colab.research.google.com/assets/colab-badge.svg\" alt=\"Open In Colab\"/></a>"
      ]
    },
    {
      "cell_type": "markdown",
      "source": [
        "<div style=\"text-align: center\"><img src=\"https://www.python.org/static/img/python-logo.png\"></div>"
      ],
      "metadata": {
        "id": "nmUpVrO5gNt3"
      }
    },
    {
      "cell_type": "markdown",
      "metadata": {
        "id": "K1GZdTu_qma5",
        "colab_type": "toc"
      },
      "source": [
        ">[BREVE INTRODUCCIÓN A PYTHON Y GESTIÓN DE DATOS](#scrollTo=AHONY2VzigaP)\n",
        "\n",
        ">[Filosofía de Python](#scrollTo=OQvPDUoFuvSK)\n",
        "\n",
        ">>[Simple es mejor que complejo:](#scrollTo=mvni2LHKvtx_)\n",
        "\n",
        ">>[Codeando con estilo:](#scrollTo=vUeavULavvCC)\n",
        "\n",
        ">>[Skills infinitas: ¿Si tuvieras habilidades de programación infinitas, qué desarrollarías?](#scrollTo=RUGo7bHLyBGB)\n",
        "\n",
        ">[1) Variables y Strings](#scrollTo=N8S1S_80Dul3)\n",
        "\n",
        ">>[Comentarios en Python](#scrollTo=bAy8mpOYD8Xp)\n",
        "\n",
        ">>[Indentación](#scrollTo=TV3DsINONxow)\n",
        "\n",
        ">>[Variables](#scrollTo=bANra59GNxke)\n",
        "\n",
        ">>[Función input()](#scrollTo=7YN_jWrZNxdJ)\n",
        "\n",
        ">[Tips y funciones útiles](#scrollTo=ySDGpJQdxdpS)\n",
        "\n",
        ">>[Función type()](#scrollTo=dbPbrOjxxddR)\n",
        "\n",
        ">>[Función len()](#scrollTo=T4G2TmXf2NGI)\n",
        "\n",
        ">>[Función split()](#scrollTo=-8FlplFN2POq)\n",
        "\n",
        ">>[Función range()](#scrollTo=Z4i64Sob2PJW)\n",
        "\n",
        ">>[Importar Google Drive](#scrollTo=PtkGXYYW2PEw)\n",
        "\n"
      ]
    },
    {
      "cell_type": "markdown",
      "metadata": {
        "id": "AHONY2VzigaP"
      },
      "source": [
        "# BREVE INTRODUCCIÓN A PYTHON Y GESTIÓN DE DATOS\n",
        "\n",
        "\n",
        "En el presente Notebook de Google Colaboratory se tiene como fin registrar los conceptos, funcionalidades, librerías y estructuras mas importantes para quieran adentrarse en el apasionado mundo del Análisis de Datos.\n",
        "\n",
        "\n",
        "Puede aprenderse más sobre el lenguaje en [python.org](https://www.python.org/) y en [Python for Beginners](https://www.python.org/about/gettingstarted/).\n",
        "\n",
        "\n",
        "Para ejecutar localmente los ejercicios en laptop o PC, es recomendado que se trabaje en Python 3.7\n",
        "\n",
        "\n",
        "Agradecimentos: a los excelentes docentes y \"evangelizadores\" de los Datos de la Diplomatura en Ciencia de Datos de la U.A.D.E., al equipo de estudio y trabajo del cual tuve el privilegio de formar parte, y a la comunidad de Data Science. "
      ]
    },
    {
      "cell_type": "markdown",
      "source": [
        "# Filosofía de Python"
      ],
      "metadata": {
        "id": "OQvPDUoFuvSK"
      }
    },
    {
      "cell_type": "markdown",
      "source": [
        "## Simple es mejor que complejo:\n",
        "\n",
        "* Si hay una solución compleja y otra simple, y las dos funcionan, es mejor usar la solución simple. \n",
        "\n",
        "* El código va a ser más fácil de mantener y de construir sobre él mas tarde."
      ],
      "metadata": {
        "id": "mvni2LHKvtx_"
      }
    },
    {
      "cell_type": "markdown",
      "source": [
        "## Codeando con estilo:\n",
        "\n",
        "* Usar 4 espacios para indentar.\n",
        "* Cada línea de código debe contener 79 caracteres o menos. Esto hace mucho más legible el código.\n",
        "* Usar espacios en blanco simples para agrupar visualmente partes del código."
      ],
      "metadata": {
        "id": "vUeavULavvCC"
      }
    },
    {
      "cell_type": "markdown",
      "source": [
        "## Skills infinitas: ¿Si tuvieras habilidades de programación infinitas, qué desarrollarías?\n",
        "\n",
        "Mientras se esta aprendiendo a programar, es bueno ir pensando en proyectos del mundo real que nos gustaría desarrollar.\n",
        "\n",
        "Es un buen hábito tener un notebook de \"ideas\" donde ir a mirar cuando queremos empezar un proyecto nuevo.\n",
        "Si nunca lo hicimos, escribir 3 proyectos que nos gutaría desarrollar sería un buen comienzo.\n",
        "\n"
      ],
      "metadata": {
        "id": "RUGo7bHLyBGB"
      }
    },
    {
      "cell_type": "markdown",
      "source": [
        "# 1) Variables y Strings"
      ],
      "metadata": {
        "id": "N8S1S_80Dul3"
      }
    },
    {
      "cell_type": "markdown",
      "source": [
        "## Comentarios en Python\n",
        "\n",
        "\n",
        "En todos los lenguajes de programación es importante documentar y hacer comentarios para que, nuestro \"yo del futuro\" u otro desarrollador, entiendan el contexto y funcionamiento de un bloque de código. \n",
        "\n",
        "Los comentarios no se ejecutan como código por el intérprete de Python.\n",
        "\n",
        "Ejemplo :"
      ],
      "metadata": {
        "id": "bAy8mpOYD8Xp"
      }
    },
    {
      "cell_type": "code",
      "source": [
        "# Hola, este es un mensaje para tu \"yo del futuro\"\n",
        "texto = '# Este es un mensaje para tu \"yo de hoy\": Este NO es un comentario ' +\\\n",
        "        'porque el código esta escrito entre \\' \\', por lo que es una cadena' + \\\n",
        "        ' de caracteres.'\n",
        "\n",
        "# La función print() la explicamos después.\n",
        "print(texto)"
      ],
      "metadata": {
        "id": "vz6gezhHMv5H",
        "colab": {
          "base_uri": "https://localhost:8080/"
        },
        "outputId": "45328017-dd64-494c-e2f8-0b837515dd00"
      },
      "execution_count": 1,
      "outputs": [
        {
          "output_type": "stream",
          "name": "stdout",
          "text": [
            "# Este es un mensaje para tu \"yo de hoy\": Este NO es un comentario porque el código esta escrito entre ' ', por lo que es una cadena de caracteres.\n"
          ]
        }
      ]
    },
    {
      "cell_type": "markdown",
      "source": [
        "## Indentación\n",
        "\n",
        "La indentación es similar a la sangría. \n",
        "\n",
        "Python usa la indentación para especificar dónde empiezan y dónde terminan los bloques de código."
      ],
      "metadata": {
        "id": "TV3DsINONxow"
      }
    },
    {
      "cell_type": "code",
      "source": [
        "a = 1\n",
        "\n",
        "# Usamos la indentación para que las próximas 3 líneas de código sean de un \n",
        "# mismo bloque:\n",
        "if a == 1:\n",
        "  texto = 'La indentación separo las intrucciones del \"if\" de las del \"print\".'\n",
        "\n",
        "print(texto)"
      ],
      "metadata": {
        "id": "jhyLVZNGzfxK",
        "colab": {
          "base_uri": "https://localhost:8080/"
        },
        "outputId": "329a2789-70e5-4011-acd2-c388a8e951f6"
      },
      "execution_count": 2,
      "outputs": [
        {
          "output_type": "stream",
          "name": "stdout",
          "text": [
            "La indentación separo las intrucciones del \"if\" de las del \"print\".\n"
          ]
        }
      ]
    },
    {
      "cell_type": "markdown",
      "source": [
        "## Variables\n",
        "\n",
        "Las variables nos permiten guardar valores en diferentes partes del código.\n",
        "Para crear una variable hay que especificar el nombre y asignarle un valor.\n",
        "\n",
        "Se le asigna un valor determinado a una variable con un solo signo \"=\" (no con \"==\").\n",
        "\n",
        "No es necesario definir de qué tipo es la variable.\n",
        "\n",
        "```\n",
        "<nombre_variable> = <valor>\n",
        "```\n"
      ],
      "metadata": {
        "id": "bANra59GNxke"
      }
    },
    {
      "cell_type": "code",
      "source": [
        "# Asignamos valores a las variables\n",
        "\n",
        "n = 72  # tipo int\n",
        "club = 'Boca Juniors'  # tipo String\n",
        "\n",
        "# Usamos las variables para imprimirlas por pantalla.\n",
        "print('Cuál es el club de fútbol argentino que más Títulos conquisto en la ' + \\\n",
        "      'historia del fútbol?\\n')\n",
        "print('El club es:', club)\n",
        "print('Ganó', n, 'títulos')\n"
      ],
      "metadata": {
        "id": "oEIcDcdp0-Jb",
        "colab": {
          "base_uri": "https://localhost:8080/"
        },
        "outputId": "16da2bf1-601d-49e1-c6f6-86d88956316b"
      },
      "execution_count": 3,
      "outputs": [
        {
          "output_type": "stream",
          "name": "stdout",
          "text": [
            "Cuál es el club de fútbol argentino que más Títulos conquisto en la historia del fútbol?\n",
            "\n",
            "El club es: Boca Juniors\n",
            "Ganó 72 títulos\n"
          ]
        }
      ]
    },
    {
      "cell_type": "markdown",
      "source": [
        "Las VARIABLES son CASE SENSITIVE (distinguen entre mayúsculas y minúsculas).\n",
        "\n",
        "Los nombres no pueden ser palabras reservadas de Python. Por ejemplo: **False, Class, def, for, while**, etc."
      ],
      "metadata": {
        "id": "HLUgRhLoNxgo"
      }
    },
    {
      "cell_type": "code",
      "source": [
        "# Las variables son CASE SENSITIVE\n",
        "\n",
        "b = 69  # tipo int\n",
        "B = 'River Plate'  # tipo String\n",
        "\n",
        "# Usamos las variables para imprimirlas por pantalla.\n",
        "print('Cuál es el club de primera división del fútbol argentino que \"se fue' + \\\n",
        "      ' a la B\", y cuántos Títulos conquisto?\\n')\n",
        "print('El club es:', B)\n",
        "print('Ganó', b, 'títulos')"
      ],
      "metadata": {
        "id": "3m8W4t9n35RN",
        "colab": {
          "base_uri": "https://localhost:8080/"
        },
        "outputId": "cc00351e-cbd2-4193-dd27-d52ff805922f"
      },
      "execution_count": 4,
      "outputs": [
        {
          "output_type": "stream",
          "name": "stdout",
          "text": [
            "Cuál es el club de primera división del fútbol argentino que \"se fue a la B\", y cuántos Títulos conquisto?\n",
            "\n",
            "El club es: River Plate\n",
            "Ganó 69 títulos\n"
          ]
        }
      ]
    },
    {
      "cell_type": "markdown",
      "source": [
        "## Función input()\n",
        "\n",
        "Nos permite tomar la información ingresada por teclado. \n",
        "\n",
        "Por default, los datos tomados son de tipo **str** (cadena de caracteres). Por esto, hay veces que es necesario convertir (\"castear\") los datos a otro tipo de dato."
      ],
      "metadata": {
        "id": "7YN_jWrZNxdJ"
      }
    },
    {
      "cell_type": "code",
      "source": [
        "# Convirtiendo a números enteros (int)\n",
        "\n",
        "a = int(2)\n",
        "b = int(7.3)\n",
        "c = int('5')\n",
        "\n",
        "print(a, b, c)"
      ],
      "metadata": {
        "id": "MZhrBLYmFGq1",
        "colab": {
          "base_uri": "https://localhost:8080/"
        },
        "outputId": "ccca8161-551e-44af-f580-7f426d65676e"
      },
      "execution_count": 5,
      "outputs": [
        {
          "output_type": "stream",
          "name": "stdout",
          "text": [
            "2 7 5\n"
          ]
        }
      ]
    },
    {
      "cell_type": "code",
      "source": [
        "# Convirtiendo a números decimales (float)\n",
        "\n",
        "a = float(2)\n",
        "b = float(7.3)\n",
        "c = float('5')\n",
        "d = float('5.3')\n",
        "\n",
        "print(a, b, c, d)"
      ],
      "metadata": {
        "id": "90Jjl8CHFGRa",
        "colab": {
          "base_uri": "https://localhost:8080/"
        },
        "outputId": "5b178fe8-a21c-41d9-a634-a20e73a1367f"
      },
      "execution_count": 6,
      "outputs": [
        {
          "output_type": "stream",
          "name": "stdout",
          "text": [
            "2.0 7.3 5.0 5.3\n"
          ]
        }
      ]
    },
    {
      "cell_type": "code",
      "source": [
        "# Convirtiendo a cadenas de caracteres (str)\n",
        "\n",
        "a = str('n5')\n",
        "b = str(3)\n",
        "c = str(5.3)\n",
        "\n",
        "print(a, b, c)"
      ],
      "metadata": {
        "id": "r_qzeaTNFGDE",
        "colab": {
          "base_uri": "https://localhost:8080/"
        },
        "outputId": "72cf1bcb-7525-4b8f-c8e2-f5e4ec4707c3"
      },
      "execution_count": 7,
      "outputs": [
        {
          "output_type": "stream",
          "name": "stdout",
          "text": [
            "n5 3 5.3\n"
          ]
        }
      ]
    },
    {
      "cell_type": "code",
      "source": [
        "# Primero casteamos los datos ingresados, y luego mostramos su valor y tipo.\n",
        "\n",
        "a = input('Ingrese su nombre: ')\n",
        "b = int(input('Ingrese su edad: '))\n",
        "c = float(input('Ingrese altura en metros: '))\n",
        "\n",
        "print('\\nHola, ' + a + '! ' + 'La variable a es de tipo ' + str(type(a)))\n",
        "print(f'La variable b tiene el valor \"{b}\", y es de tipo {type(b)}')\n",
        "print(f'La variable c tiene el valor \"{c}\", y es de tipo {type(c)}')"
      ],
      "metadata": {
        "id": "76wwEC29FF6E",
        "colab": {
          "base_uri": "https://localhost:8080/"
        },
        "outputId": "5aa5f72d-9c8f-4b00-efb2-4292f364e4ba"
      },
      "execution_count": 8,
      "outputs": [
        {
          "output_type": "stream",
          "name": "stdout",
          "text": [
            "Ingrese su nombre: Guido van Rossum\n",
            "Ingrese su edad: 65\n",
            "Ingrese altura en metros: 1.8\n",
            "\n",
            "Hola, Guido van Rossum! La variable a es de tipo <class 'str'>\n",
            "La variable b tiene el valor \"65\", y es de tipo <class 'int'>\n",
            "La variable c tiene el valor \"1.8\", y es de tipo <class 'float'>\n"
          ]
        }
      ]
    },
    {
      "cell_type": "markdown",
      "source": [
        "# Tips y funciones útiles"
      ],
      "metadata": {
        "id": "ySDGpJQdxdpS"
      }
    },
    {
      "cell_type": "markdown",
      "source": [
        "## Función type()\n",
        "\n",
        "La función **Type()** devuelve el tipo de objeto que recibe por argument.\n",
        "\n",
        "\n",
        "```\n",
        "type(objeto)\n",
        "\n",
        "```"
      ],
      "metadata": {
        "id": "dbPbrOjxxddR"
      }
    },
    {
      "cell_type": "code",
      "source": [
        "objeto = 2.75\n",
        "\n",
        "print (type(objeto))"
      ],
      "metadata": {
        "id": "qFFt_FqAzZBr",
        "colab": {
          "base_uri": "https://localhost:8080/"
        },
        "outputId": "71717486-4214-4a8f-c824-7c5e9b4fc55b"
      },
      "execution_count": 9,
      "outputs": [
        {
          "output_type": "stream",
          "name": "stdout",
          "text": [
            "<class 'float'>\n"
          ]
        }
      ]
    },
    {
      "cell_type": "markdown",
      "source": [
        "## Función len()\n",
        "\n",
        "Una función muy útil es la función len() de Python.\n",
        "Retorna la cantidad de elementos de un objeto."
      ],
      "metadata": {
        "id": "T4G2TmXf2NGI"
      }
    },
    {
      "cell_type": "code",
      "source": [
        "texto = 'Esto es una cadena de caracteres'\n",
        "\n",
        "len(texto)"
      ],
      "metadata": {
        "colab": {
          "base_uri": "https://localhost:8080/"
        },
        "id": "Q3aKNCJi4WvE",
        "outputId": "40396889-c907-4f88-ab17-91d40fd256a4"
      },
      "execution_count": 10,
      "outputs": [
        {
          "output_type": "execute_result",
          "data": {
            "text/plain": [
              "32"
            ]
          },
          "metadata": {},
          "execution_count": 10
        }
      ]
    },
    {
      "cell_type": "markdown",
      "source": [
        "## Función split()\n",
        "\n",
        "Separa una cadena de caracteres y los guarda en una **Lista**.\n",
        "\n",
        "El **separator** por default es un espacio, aunque se puede especificar un separadaor. El **maxsplit** por default es -1 (todas las courrencias), aunque se puede especificar el número de splits a realizar.\n",
        "\n",
        "Al devolver una Lista, luego necesitamos usar **Slincing** para almacenar los elementos de la Lista que queremos.\n",
        "\n",
        "```\n",
        "string.split(separator, maxsplit)\n",
        "```"
      ],
      "metadata": {
        "id": "-8FlplFN2POq"
      }
    },
    {
      "cell_type": "code",
      "source": [
        "variable = '1.0'\n",
        "\n",
        "# Dividimos la cadena de caracteres para eliminar los caracteres detras del . \n",
        "# Tomamos el primer elemento de la Lista.\n",
        "split = variable.split('.')[0] \n",
        "\n",
        "print(variable)\n",
        "print(int(split))"
      ],
      "metadata": {
        "id": "SepFU4V_44l_",
        "colab": {
          "base_uri": "https://localhost:8080/"
        },
        "outputId": "06ed6b90-574c-42be-bb01-c908449645dc"
      },
      "execution_count": 11,
      "outputs": [
        {
          "output_type": "stream",
          "name": "stdout",
          "text": [
            "1.0\n",
            "1\n"
          ]
        }
      ]
    },
    {
      "cell_type": "markdown",
      "source": [
        "## Función range()\n",
        "\n",
        "Retorna, por default, una secuencia de números empezando en 0, incrementándose en 1 y terminando en **stop** - 1.\n",
        "\n",
        "Los parámetros son:\n",
        "* **start**: Opcional. Número desde donde empieza la secuencia. Se incluye este número.\n",
        "* **stop**: Requerido. Número donde finaliza la secuencia. NO se incluye este número.\n",
        "* **step**: Opcional. Número entero que especifica en cuánto se incrementa la secuencia.\n",
        "\n",
        "```\n",
        "range(start, stop, step)\n",
        "```"
      ],
      "metadata": {
        "id": "Z4i64Sob2PJW"
      }
    },
    {
      "cell_type": "code",
      "source": [
        "i = 1\n",
        "\n",
        "for i in range(5): # Por más que i=1, el range() va desde 0 a 4 incluído.\n",
        "  print(i)"
      ],
      "metadata": {
        "id": "2P7SxUBg_AIp",
        "colab": {
          "base_uri": "https://localhost:8080/"
        },
        "outputId": "c5e5566a-2f18-4ffb-a4eb-0bc7d6cf289f"
      },
      "execution_count": 12,
      "outputs": [
        {
          "output_type": "stream",
          "name": "stdout",
          "text": [
            "0\n",
            "1\n",
            "2\n",
            "3\n",
            "4\n"
          ]
        }
      ]
    },
    {
      "cell_type": "code",
      "source": [
        "for i in range(1, 5): # El range() empezo en 1 y termino en 5-1.\n",
        "  print(i)"
      ],
      "metadata": {
        "id": "J74PtCHD_bbK",
        "colab": {
          "base_uri": "https://localhost:8080/"
        },
        "outputId": "2e04cc71-28b0-453e-b61f-e3cab378f9f9"
      },
      "execution_count": 13,
      "outputs": [
        {
          "output_type": "stream",
          "name": "stdout",
          "text": [
            "1\n",
            "2\n",
            "3\n",
            "4\n"
          ]
        }
      ]
    },
    {
      "cell_type": "markdown",
      "source": [
        "## Importar Google Drive\n",
        "\n",
        "```\n",
        "from google.colab import drive\n",
        "drive.mount('/content/gdrive')\n",
        "```"
      ],
      "metadata": {
        "id": "PtkGXYYW2PEw"
      }
    },
    {
      "cell_type": "code",
      "source": [
        "from google.colab import drive\n",
        "drive.mount('/content/gdrive')"
      ],
      "metadata": {
        "id": "EXPSthweBAIU",
        "colab": {
          "base_uri": "https://localhost:8080/"
        },
        "outputId": "baebf358-0036-4351-b222-600fedee98c0"
      },
      "execution_count": 14,
      "outputs": [
        {
          "output_type": "stream",
          "name": "stdout",
          "text": [
            "Mounted at /content/gdrive\n"
          ]
        }
      ]
    },
    {
      "cell_type": "code",
      "source": [
        "drive.flush_and_unmount(timeout_ms=100)"
      ],
      "metadata": {
        "id": "712D_dQEBAcK"
      },
      "execution_count": 15,
      "outputs": []
    }
  ]
}